{
  "cells": [
    {
      "cell_type": "markdown",
      "metadata": {
        "id": "view-in-github",
        "colab_type": "text"
      },
      "source": [
        "<a href=\"https://colab.research.google.com/github/yativarshney/text/blob/main/drugclassification.ipynb\" target=\"_parent\"><img src=\"https://colab.research.google.com/assets/colab-badge.svg\" alt=\"Open In Colab\"/></a>"
      ]
    },
    {
      "cell_type": "markdown",
      "id": "pressing-bench",
      "metadata": {
        "papermill": {
          "duration": 0.044117,
          "end_time": "2021-06-13T14:12:46.845367",
          "exception": false,
          "start_time": "2021-06-13T14:12:46.801250",
          "status": "completed"
        },
        "tags": [],
        "id": "pressing-bench"
      },
      "source": [
        "## Importing libraries"
      ]
    },
    {
      "cell_type": "code",
      "execution_count": 1,
      "id": "representative-satisfaction",
      "metadata": {
        "execution": {
          "iopub.execute_input": "2021-06-13T14:12:46.945003Z",
          "iopub.status.busy": "2021-06-13T14:12:46.944317Z",
          "iopub.status.idle": "2021-06-13T14:12:48.138926Z",
          "shell.execute_reply": "2021-06-13T14:12:48.138254Z",
          "shell.execute_reply.started": "2021-06-13T14:10:24.380088Z"
        },
        "papermill": {
          "duration": 1.250247,
          "end_time": "2021-06-13T14:12:48.139098",
          "exception": false,
          "start_time": "2021-06-13T14:12:46.888851",
          "status": "completed"
        },
        "tags": [],
        "id": "representative-satisfaction"
      },
      "outputs": [],
      "source": [
        "import numpy as np\n",
        "import pandas as pd\n",
        "import matplotlib.pyplot as plt\n",
        "import seaborn as sns\n",
        "from sklearn.model_selection import train_test_split\n",
        "from sklearn.ensemble import RandomForestClassifier\n",
        "from sklearn.model_selection import GridSearchCV\n",
        "from sklearn.model_selection import cross_val_score\n",
        "from sklearn.metrics import confusion_matrix, f1_score, classification_report \n",
        "from sklearn.tree import DecisionTreeClassifier\n",
        "from sklearn.neighbors import KNeighborsClassifier\n",
        "from sklearn.tree import plot_tree"
      ]
    },
    {
      "cell_type": "code",
      "source": [
        "from google.colab import drive\n",
        "drive.mount('/content/drive')"
      ],
      "metadata": {
        "colab": {
          "base_uri": "https://localhost:8080/"
        },
        "id": "ymch2FUs9K1f",
        "outputId": "dd07e527-18d7-456c-d6bd-afdcca1b0a0f"
      },
      "id": "ymch2FUs9K1f",
      "execution_count": 2,
      "outputs": [
        {
          "output_type": "stream",
          "name": "stdout",
          "text": [
            "Mounted at /content/drive\n"
          ]
        }
      ]
    },
    {
      "cell_type": "markdown",
      "id": "superb-student",
      "metadata": {
        "papermill": {
          "duration": 0.041197,
          "end_time": "2021-06-13T14:12:48.224603",
          "exception": false,
          "start_time": "2021-06-13T14:12:48.183406",
          "status": "completed"
        },
        "tags": [],
        "id": "superb-student"
      },
      "source": [
        "## Loading the dataset"
      ]
    },
    {
      "cell_type": "code",
      "execution_count": 3,
      "id": "tired-imperial",
      "metadata": {
        "execution": {
          "iopub.execute_input": "2021-06-13T14:12:48.317673Z",
          "iopub.status.busy": "2021-06-13T14:12:48.317005Z",
          "iopub.status.idle": "2021-06-13T14:12:48.333479Z",
          "shell.execute_reply": "2021-06-13T14:12:48.333891Z",
          "shell.execute_reply.started": "2021-06-13T14:10:25.744682Z"
        },
        "papermill": {
          "duration": 0.065072,
          "end_time": "2021-06-13T14:12:48.334050",
          "exception": false,
          "start_time": "2021-06-13T14:12:48.268978",
          "status": "completed"
        },
        "tags": [],
        "id": "tired-imperial"
      },
      "outputs": [],
      "source": [
        "df = pd.read_csv('/content/drive/MyDrive/Colab Notebooks/drug200.csv')"
      ]
    },
    {
      "cell_type": "markdown",
      "id": "legislative-canada",
      "metadata": {
        "papermill": {
          "duration": 0.042995,
          "end_time": "2021-06-13T14:12:48.419996",
          "exception": false,
          "start_time": "2021-06-13T14:12:48.377001",
          "status": "completed"
        },
        "tags": [],
        "id": "legislative-canada"
      },
      "source": [
        "## Exploratory Data Analysis"
      ]
    },
    {
      "cell_type": "code",
      "execution_count": 4,
      "id": "ahead-hazard",
      "metadata": {
        "execution": {
          "iopub.execute_input": "2021-06-13T14:12:48.517763Z",
          "iopub.status.busy": "2021-06-13T14:12:48.517241Z",
          "iopub.status.idle": "2021-06-13T14:12:48.536460Z",
          "shell.execute_reply": "2021-06-13T14:12:48.535977Z",
          "shell.execute_reply.started": "2021-06-13T14:10:25.770996Z"
        },
        "papermill": {
          "duration": 0.073711,
          "end_time": "2021-06-13T14:12:48.536600",
          "exception": false,
          "start_time": "2021-06-13T14:12:48.462889",
          "status": "completed"
        },
        "tags": [],
        "colab": {
          "base_uri": "https://localhost:8080/",
          "height": 206
        },
        "id": "ahead-hazard",
        "outputId": "ff684f2c-8478-400d-bb79-a686eff29066"
      },
      "outputs": [
        {
          "output_type": "execute_result",
          "data": {
            "text/plain": [
              "   Age Sex      BP Cholesterol  Na_to_K   Drug\n",
              "0   23   F    HIGH        HIGH   25.355  DrugY\n",
              "1   47   M     LOW        HIGH   13.093  drugC\n",
              "2   47   M     LOW        HIGH   10.114  drugC\n",
              "3   28   F  NORMAL        HIGH    7.798  drugX\n",
              "4   61   F     LOW        HIGH   18.043  DrugY"
            ],
            "text/html": [
              "\n",
              "  <div id=\"df-6b75b1d8-69d4-4423-a3c2-90fb13b4c0be\">\n",
              "    <div class=\"colab-df-container\">\n",
              "      <div>\n",
              "<style scoped>\n",
              "    .dataframe tbody tr th:only-of-type {\n",
              "        vertical-align: middle;\n",
              "    }\n",
              "\n",
              "    .dataframe tbody tr th {\n",
              "        vertical-align: top;\n",
              "    }\n",
              "\n",
              "    .dataframe thead th {\n",
              "        text-align: right;\n",
              "    }\n",
              "</style>\n",
              "<table border=\"1\" class=\"dataframe\">\n",
              "  <thead>\n",
              "    <tr style=\"text-align: right;\">\n",
              "      <th></th>\n",
              "      <th>Age</th>\n",
              "      <th>Sex</th>\n",
              "      <th>BP</th>\n",
              "      <th>Cholesterol</th>\n",
              "      <th>Na_to_K</th>\n",
              "      <th>Drug</th>\n",
              "    </tr>\n",
              "  </thead>\n",
              "  <tbody>\n",
              "    <tr>\n",
              "      <th>0</th>\n",
              "      <td>23</td>\n",
              "      <td>F</td>\n",
              "      <td>HIGH</td>\n",
              "      <td>HIGH</td>\n",
              "      <td>25.355</td>\n",
              "      <td>DrugY</td>\n",
              "    </tr>\n",
              "    <tr>\n",
              "      <th>1</th>\n",
              "      <td>47</td>\n",
              "      <td>M</td>\n",
              "      <td>LOW</td>\n",
              "      <td>HIGH</td>\n",
              "      <td>13.093</td>\n",
              "      <td>drugC</td>\n",
              "    </tr>\n",
              "    <tr>\n",
              "      <th>2</th>\n",
              "      <td>47</td>\n",
              "      <td>M</td>\n",
              "      <td>LOW</td>\n",
              "      <td>HIGH</td>\n",
              "      <td>10.114</td>\n",
              "      <td>drugC</td>\n",
              "    </tr>\n",
              "    <tr>\n",
              "      <th>3</th>\n",
              "      <td>28</td>\n",
              "      <td>F</td>\n",
              "      <td>NORMAL</td>\n",
              "      <td>HIGH</td>\n",
              "      <td>7.798</td>\n",
              "      <td>drugX</td>\n",
              "    </tr>\n",
              "    <tr>\n",
              "      <th>4</th>\n",
              "      <td>61</td>\n",
              "      <td>F</td>\n",
              "      <td>LOW</td>\n",
              "      <td>HIGH</td>\n",
              "      <td>18.043</td>\n",
              "      <td>DrugY</td>\n",
              "    </tr>\n",
              "  </tbody>\n",
              "</table>\n",
              "</div>\n",
              "      <button class=\"colab-df-convert\" onclick=\"convertToInteractive('df-6b75b1d8-69d4-4423-a3c2-90fb13b4c0be')\"\n",
              "              title=\"Convert this dataframe to an interactive table.\"\n",
              "              style=\"display:none;\">\n",
              "        \n",
              "  <svg xmlns=\"http://www.w3.org/2000/svg\" height=\"24px\"viewBox=\"0 0 24 24\"\n",
              "       width=\"24px\">\n",
              "    <path d=\"M0 0h24v24H0V0z\" fill=\"none\"/>\n",
              "    <path d=\"M18.56 5.44l.94 2.06.94-2.06 2.06-.94-2.06-.94-.94-2.06-.94 2.06-2.06.94zm-11 1L8.5 8.5l.94-2.06 2.06-.94-2.06-.94L8.5 2.5l-.94 2.06-2.06.94zm10 10l.94 2.06.94-2.06 2.06-.94-2.06-.94-.94-2.06-.94 2.06-2.06.94z\"/><path d=\"M17.41 7.96l-1.37-1.37c-.4-.4-.92-.59-1.43-.59-.52 0-1.04.2-1.43.59L10.3 9.45l-7.72 7.72c-.78.78-.78 2.05 0 2.83L4 21.41c.39.39.9.59 1.41.59.51 0 1.02-.2 1.41-.59l7.78-7.78 2.81-2.81c.8-.78.8-2.07 0-2.86zM5.41 20L4 18.59l7.72-7.72 1.47 1.35L5.41 20z\"/>\n",
              "  </svg>\n",
              "      </button>\n",
              "      \n",
              "  <style>\n",
              "    .colab-df-container {\n",
              "      display:flex;\n",
              "      flex-wrap:wrap;\n",
              "      gap: 12px;\n",
              "    }\n",
              "\n",
              "    .colab-df-convert {\n",
              "      background-color: #E8F0FE;\n",
              "      border: none;\n",
              "      border-radius: 50%;\n",
              "      cursor: pointer;\n",
              "      display: none;\n",
              "      fill: #1967D2;\n",
              "      height: 32px;\n",
              "      padding: 0 0 0 0;\n",
              "      width: 32px;\n",
              "    }\n",
              "\n",
              "    .colab-df-convert:hover {\n",
              "      background-color: #E2EBFA;\n",
              "      box-shadow: 0px 1px 2px rgba(60, 64, 67, 0.3), 0px 1px 3px 1px rgba(60, 64, 67, 0.15);\n",
              "      fill: #174EA6;\n",
              "    }\n",
              "\n",
              "    [theme=dark] .colab-df-convert {\n",
              "      background-color: #3B4455;\n",
              "      fill: #D2E3FC;\n",
              "    }\n",
              "\n",
              "    [theme=dark] .colab-df-convert:hover {\n",
              "      background-color: #434B5C;\n",
              "      box-shadow: 0px 1px 3px 1px rgba(0, 0, 0, 0.15);\n",
              "      filter: drop-shadow(0px 1px 2px rgba(0, 0, 0, 0.3));\n",
              "      fill: #FFFFFF;\n",
              "    }\n",
              "  </style>\n",
              "\n",
              "      <script>\n",
              "        const buttonEl =\n",
              "          document.querySelector('#df-6b75b1d8-69d4-4423-a3c2-90fb13b4c0be button.colab-df-convert');\n",
              "        buttonEl.style.display =\n",
              "          google.colab.kernel.accessAllowed ? 'block' : 'none';\n",
              "\n",
              "        async function convertToInteractive(key) {\n",
              "          const element = document.querySelector('#df-6b75b1d8-69d4-4423-a3c2-90fb13b4c0be');\n",
              "          const dataTable =\n",
              "            await google.colab.kernel.invokeFunction('convertToInteractive',\n",
              "                                                     [key], {});\n",
              "          if (!dataTable) return;\n",
              "\n",
              "          const docLinkHtml = 'Like what you see? Visit the ' +\n",
              "            '<a target=\"_blank\" href=https://colab.research.google.com/notebooks/data_table.ipynb>data table notebook</a>'\n",
              "            + ' to learn more about interactive tables.';\n",
              "          element.innerHTML = '';\n",
              "          dataTable['output_type'] = 'display_data';\n",
              "          await google.colab.output.renderOutput(dataTable, element);\n",
              "          const docLink = document.createElement('div');\n",
              "          docLink.innerHTML = docLinkHtml;\n",
              "          element.appendChild(docLink);\n",
              "        }\n",
              "      </script>\n",
              "    </div>\n",
              "  </div>\n",
              "  "
            ]
          },
          "metadata": {},
          "execution_count": 4
        }
      ],
      "source": [
        "df.head()"
      ]
    },
    {
      "cell_type": "code",
      "execution_count": 5,
      "id": "legislative-muslim",
      "metadata": {
        "execution": {
          "iopub.execute_input": "2021-06-13T14:12:48.630741Z",
          "iopub.status.busy": "2021-06-13T14:12:48.629746Z",
          "iopub.status.idle": "2021-06-13T14:12:48.635117Z",
          "shell.execute_reply": "2021-06-13T14:12:48.635823Z",
          "shell.execute_reply.started": "2021-06-13T14:10:25.803377Z"
        },
        "papermill": {
          "duration": 0.055492,
          "end_time": "2021-06-13T14:12:48.636038",
          "exception": false,
          "start_time": "2021-06-13T14:12:48.580546",
          "status": "completed"
        },
        "tags": [],
        "colab": {
          "base_uri": "https://localhost:8080/"
        },
        "id": "legislative-muslim",
        "outputId": "3746a192-7bde-412e-905f-2e7abf7e4d37"
      },
      "outputs": [
        {
          "output_type": "execute_result",
          "data": {
            "text/plain": [
              "(200, 6)"
            ]
          },
          "metadata": {},
          "execution_count": 5
        }
      ],
      "source": [
        "df.shape"
      ]
    },
    {
      "cell_type": "markdown",
      "id": "military-division",
      "metadata": {
        "papermill": {
          "duration": 0.047088,
          "end_time": "2021-06-13T14:12:48.748361",
          "exception": false,
          "start_time": "2021-06-13T14:12:48.701273",
          "status": "completed"
        },
        "tags": [],
        "id": "military-division"
      },
      "source": [
        "The dataset has 200 records and 6 attributes."
      ]
    },
    {
      "cell_type": "code",
      "execution_count": 6,
      "id": "empty-handbook",
      "metadata": {
        "execution": {
          "iopub.execute_input": "2021-06-13T14:12:48.858481Z",
          "iopub.status.busy": "2021-06-13T14:12:48.857829Z",
          "iopub.status.idle": "2021-06-13T14:12:48.861764Z",
          "shell.execute_reply": "2021-06-13T14:12:48.862231Z",
          "shell.execute_reply.started": "2021-06-13T14:10:25.813115Z"
        },
        "papermill": {
          "duration": 0.069476,
          "end_time": "2021-06-13T14:12:48.862409",
          "exception": false,
          "start_time": "2021-06-13T14:12:48.792933",
          "status": "completed"
        },
        "tags": [],
        "colab": {
          "base_uri": "https://localhost:8080/"
        },
        "id": "empty-handbook",
        "outputId": "7e1ff764-c77f-43a1-8295-8a8365bf1c61"
      },
      "outputs": [
        {
          "output_type": "stream",
          "name": "stdout",
          "text": [
            "<class 'pandas.core.frame.DataFrame'>\n",
            "RangeIndex: 200 entries, 0 to 199\n",
            "Data columns (total 6 columns):\n",
            " #   Column       Non-Null Count  Dtype  \n",
            "---  ------       --------------  -----  \n",
            " 0   Age          200 non-null    int64  \n",
            " 1   Sex          200 non-null    object \n",
            " 2   BP           200 non-null    object \n",
            " 3   Cholesterol  200 non-null    object \n",
            " 4   Na_to_K      200 non-null    float64\n",
            " 5   Drug         200 non-null    object \n",
            "dtypes: float64(1), int64(1), object(4)\n",
            "memory usage: 9.5+ KB\n"
          ]
        }
      ],
      "source": [
        "df.info()"
      ]
    },
    {
      "cell_type": "markdown",
      "id": "flying-convenience",
      "metadata": {
        "papermill": {
          "duration": 0.045881,
          "end_time": "2021-06-13T14:12:48.955698",
          "exception": false,
          "start_time": "2021-06-13T14:12:48.909817",
          "status": "completed"
        },
        "tags": [],
        "id": "flying-convenience"
      },
      "source": [
        "The dataset has 1 float, 1 integer and 4 object columns."
      ]
    },
    {
      "cell_type": "markdown",
      "id": "informal-fellowship",
      "metadata": {
        "papermill": {
          "duration": 0.044878,
          "end_time": "2021-06-13T14:12:49.044555",
          "exception": false,
          "start_time": "2021-06-13T14:12:48.999677",
          "status": "completed"
        },
        "tags": [],
        "id": "informal-fellowship"
      },
      "source": [
        "### Attribute Description:-\n",
        "\n",
        "<ol>\n",
        "    <li>Age: stores the age of patient</li>\n",
        "    <li>Sex: stores the gender of patients</li>\n",
        "    <li>BP: contains blood pressure of patient</li>\n",
        "    <li>Cholesterol: stores cholesterol of patient</li>\n",
        "    <li>Na_to_K: contains Sodium to Potassium ratio in blood</li>\n",
        "    <li>Drug: contains he drug type given to patients</li>\n",
        "</ol>"
      ]
    },
    {
      "cell_type": "code",
      "execution_count": 7,
      "id": "sacred-mathematics",
      "metadata": {
        "execution": {
          "iopub.execute_input": "2021-06-13T14:12:49.141196Z",
          "iopub.status.busy": "2021-06-13T14:12:49.140205Z",
          "iopub.status.idle": "2021-06-13T14:12:49.144327Z",
          "shell.execute_reply": "2021-06-13T14:12:49.143868Z",
          "shell.execute_reply.started": "2021-06-13T14:10:25.844027Z"
        },
        "papermill": {
          "duration": 0.05479,
          "end_time": "2021-06-13T14:12:49.144449",
          "exception": false,
          "start_time": "2021-06-13T14:12:49.089659",
          "status": "completed"
        },
        "tags": [],
        "colab": {
          "base_uri": "https://localhost:8080/"
        },
        "id": "sacred-mathematics",
        "outputId": "16d38fca-4a76-4f71-d562-a0999029c656"
      },
      "outputs": [
        {
          "output_type": "execute_result",
          "data": {
            "text/plain": [
              "Age            0\n",
              "Sex            0\n",
              "BP             0\n",
              "Cholesterol    0\n",
              "Na_to_K        0\n",
              "Drug           0\n",
              "dtype: int64"
            ]
          },
          "metadata": {},
          "execution_count": 7
        }
      ],
      "source": [
        "# Check for missing values\n",
        "\n",
        "df.isnull().sum()"
      ]
    },
    {
      "cell_type": "markdown",
      "id": "french-mystery",
      "metadata": {
        "papermill": {
          "duration": 0.043587,
          "end_time": "2021-06-13T14:12:49.232458",
          "exception": false,
          "start_time": "2021-06-13T14:12:49.188871",
          "status": "completed"
        },
        "tags": [],
        "id": "french-mystery"
      },
      "source": [
        "The dataset doesn't have any null values."
      ]
    },
    {
      "cell_type": "code",
      "execution_count": 8,
      "id": "following-injury",
      "metadata": {
        "execution": {
          "iopub.execute_input": "2021-06-13T14:12:49.329552Z",
          "iopub.status.busy": "2021-06-13T14:12:49.328648Z",
          "iopub.status.idle": "2021-06-13T14:12:49.337603Z",
          "shell.execute_reply": "2021-06-13T14:12:49.338062Z",
          "shell.execute_reply.started": "2021-06-13T14:10:25.860983Z"
        },
        "papermill": {
          "duration": 0.060522,
          "end_time": "2021-06-13T14:12:49.338236",
          "exception": false,
          "start_time": "2021-06-13T14:12:49.277714",
          "status": "completed"
        },
        "tags": [],
        "colab": {
          "base_uri": "https://localhost:8080/",
          "height": 49
        },
        "id": "following-injury",
        "outputId": "0c6933f1-24ca-41d9-d417-b78f6ddc5f48"
      },
      "outputs": [
        {
          "output_type": "execute_result",
          "data": {
            "text/plain": [
              "Empty DataFrame\n",
              "Columns: [Age, Sex, BP, Cholesterol, Na_to_K, Drug]\n",
              "Index: []"
            ],
            "text/html": [
              "\n",
              "  <div id=\"df-253c6db6-9612-4cf7-9895-e9a4d3352c04\">\n",
              "    <div class=\"colab-df-container\">\n",
              "      <div>\n",
              "<style scoped>\n",
              "    .dataframe tbody tr th:only-of-type {\n",
              "        vertical-align: middle;\n",
              "    }\n",
              "\n",
              "    .dataframe tbody tr th {\n",
              "        vertical-align: top;\n",
              "    }\n",
              "\n",
              "    .dataframe thead th {\n",
              "        text-align: right;\n",
              "    }\n",
              "</style>\n",
              "<table border=\"1\" class=\"dataframe\">\n",
              "  <thead>\n",
              "    <tr style=\"text-align: right;\">\n",
              "      <th></th>\n",
              "      <th>Age</th>\n",
              "      <th>Sex</th>\n",
              "      <th>BP</th>\n",
              "      <th>Cholesterol</th>\n",
              "      <th>Na_to_K</th>\n",
              "      <th>Drug</th>\n",
              "    </tr>\n",
              "  </thead>\n",
              "  <tbody>\n",
              "  </tbody>\n",
              "</table>\n",
              "</div>\n",
              "      <button class=\"colab-df-convert\" onclick=\"convertToInteractive('df-253c6db6-9612-4cf7-9895-e9a4d3352c04')\"\n",
              "              title=\"Convert this dataframe to an interactive table.\"\n",
              "              style=\"display:none;\">\n",
              "        \n",
              "  <svg xmlns=\"http://www.w3.org/2000/svg\" height=\"24px\"viewBox=\"0 0 24 24\"\n",
              "       width=\"24px\">\n",
              "    <path d=\"M0 0h24v24H0V0z\" fill=\"none\"/>\n",
              "    <path d=\"M18.56 5.44l.94 2.06.94-2.06 2.06-.94-2.06-.94-.94-2.06-.94 2.06-2.06.94zm-11 1L8.5 8.5l.94-2.06 2.06-.94-2.06-.94L8.5 2.5l-.94 2.06-2.06.94zm10 10l.94 2.06.94-2.06 2.06-.94-2.06-.94-.94-2.06-.94 2.06-2.06.94z\"/><path d=\"M17.41 7.96l-1.37-1.37c-.4-.4-.92-.59-1.43-.59-.52 0-1.04.2-1.43.59L10.3 9.45l-7.72 7.72c-.78.78-.78 2.05 0 2.83L4 21.41c.39.39.9.59 1.41.59.51 0 1.02-.2 1.41-.59l7.78-7.78 2.81-2.81c.8-.78.8-2.07 0-2.86zM5.41 20L4 18.59l7.72-7.72 1.47 1.35L5.41 20z\"/>\n",
              "  </svg>\n",
              "      </button>\n",
              "      \n",
              "  <style>\n",
              "    .colab-df-container {\n",
              "      display:flex;\n",
              "      flex-wrap:wrap;\n",
              "      gap: 12px;\n",
              "    }\n",
              "\n",
              "    .colab-df-convert {\n",
              "      background-color: #E8F0FE;\n",
              "      border: none;\n",
              "      border-radius: 50%;\n",
              "      cursor: pointer;\n",
              "      display: none;\n",
              "      fill: #1967D2;\n",
              "      height: 32px;\n",
              "      padding: 0 0 0 0;\n",
              "      width: 32px;\n",
              "    }\n",
              "\n",
              "    .colab-df-convert:hover {\n",
              "      background-color: #E2EBFA;\n",
              "      box-shadow: 0px 1px 2px rgba(60, 64, 67, 0.3), 0px 1px 3px 1px rgba(60, 64, 67, 0.15);\n",
              "      fill: #174EA6;\n",
              "    }\n",
              "\n",
              "    [theme=dark] .colab-df-convert {\n",
              "      background-color: #3B4455;\n",
              "      fill: #D2E3FC;\n",
              "    }\n",
              "\n",
              "    [theme=dark] .colab-df-convert:hover {\n",
              "      background-color: #434B5C;\n",
              "      box-shadow: 0px 1px 3px 1px rgba(0, 0, 0, 0.15);\n",
              "      filter: drop-shadow(0px 1px 2px rgba(0, 0, 0, 0.3));\n",
              "      fill: #FFFFFF;\n",
              "    }\n",
              "  </style>\n",
              "\n",
              "      <script>\n",
              "        const buttonEl =\n",
              "          document.querySelector('#df-253c6db6-9612-4cf7-9895-e9a4d3352c04 button.colab-df-convert');\n",
              "        buttonEl.style.display =\n",
              "          google.colab.kernel.accessAllowed ? 'block' : 'none';\n",
              "\n",
              "        async function convertToInteractive(key) {\n",
              "          const element = document.querySelector('#df-253c6db6-9612-4cf7-9895-e9a4d3352c04');\n",
              "          const dataTable =\n",
              "            await google.colab.kernel.invokeFunction('convertToInteractive',\n",
              "                                                     [key], {});\n",
              "          if (!dataTable) return;\n",
              "\n",
              "          const docLinkHtml = 'Like what you see? Visit the ' +\n",
              "            '<a target=\"_blank\" href=https://colab.research.google.com/notebooks/data_table.ipynb>data table notebook</a>'\n",
              "            + ' to learn more about interactive tables.';\n",
              "          element.innerHTML = '';\n",
              "          dataTable['output_type'] = 'display_data';\n",
              "          await google.colab.output.renderOutput(dataTable, element);\n",
              "          const docLink = document.createElement('div');\n",
              "          docLink.innerHTML = docLinkHtml;\n",
              "          element.appendChild(docLink);\n",
              "        }\n",
              "      </script>\n",
              "    </div>\n",
              "  </div>\n",
              "  "
            ]
          },
          "metadata": {},
          "execution_count": 8
        }
      ],
      "source": [
        "# Check for duplicates\n",
        "\n",
        "duplicate = df[df.duplicated()]\n",
        "duplicate"
      ]
    },
    {
      "cell_type": "markdown",
      "id": "optional-danger",
      "metadata": {
        "papermill": {
          "duration": 0.044559,
          "end_time": "2021-06-13T14:12:49.428270",
          "exception": false,
          "start_time": "2021-06-13T14:12:49.383711",
          "status": "completed"
        },
        "tags": [],
        "id": "optional-danger"
      },
      "source": [
        "No duplicate records are present."
      ]
    },
    {
      "cell_type": "code",
      "execution_count": 9,
      "id": "nervous-saturn",
      "metadata": {
        "execution": {
          "iopub.execute_input": "2021-06-13T14:12:49.522771Z",
          "iopub.status.busy": "2021-06-13T14:12:49.521978Z",
          "iopub.status.idle": "2021-06-13T14:12:49.525785Z",
          "shell.execute_reply": "2021-06-13T14:12:49.526260Z",
          "shell.execute_reply.started": "2021-06-13T14:10:25.883897Z"
        },
        "papermill": {
          "duration": 0.053578,
          "end_time": "2021-06-13T14:12:49.526413",
          "exception": false,
          "start_time": "2021-06-13T14:12:49.472835",
          "status": "completed"
        },
        "tags": [],
        "colab": {
          "base_uri": "https://localhost:8080/"
        },
        "id": "nervous-saturn",
        "outputId": "bf80ea31-3aeb-43ac-cf74-bec5f346d4cf"
      },
      "outputs": [
        {
          "output_type": "stream",
          "name": "stdout",
          "text": [
            "Minimum Age is 15 years\n",
            "Maximum Age is 74 years\n"
          ]
        }
      ],
      "source": [
        "# Find minimum and maximum age\n",
        "\n",
        "print(\"Minimum Age is {} years\".format(df['Age'].min()))\n",
        "print(\"Maximum Age is {} years\".format(df['Age'].max()))"
      ]
    },
    {
      "cell_type": "code",
      "execution_count": 10,
      "id": "cardiac-roots",
      "metadata": {
        "execution": {
          "iopub.execute_input": "2021-06-13T14:12:49.623031Z",
          "iopub.status.busy": "2021-06-13T14:12:49.622029Z",
          "iopub.status.idle": "2021-06-13T14:12:49.626646Z",
          "shell.execute_reply": "2021-06-13T14:12:49.625913Z",
          "shell.execute_reply.started": "2021-06-13T14:10:25.894572Z"
        },
        "papermill": {
          "duration": 0.055558,
          "end_time": "2021-06-13T14:12:49.626787",
          "exception": false,
          "start_time": "2021-06-13T14:12:49.571229",
          "status": "completed"
        },
        "tags": [],
        "colab": {
          "base_uri": "https://localhost:8080/"
        },
        "id": "cardiac-roots",
        "outputId": "37efe64c-15a1-4d51-ddcf-a6bd08d47e7e"
      },
      "outputs": [
        {
          "output_type": "stream",
          "name": "stdout",
          "text": [
            "Sex: ['F' 'M']\n",
            "BP: ['HIGH' 'LOW' 'NORMAL']\n",
            "Cholesterol: ['HIGH' 'NORMAL']\n",
            "Drug: ['DrugY' 'drugC' 'drugX' 'drugA' 'drugB']\n"
          ]
        }
      ],
      "source": [
        "# Find unique values in categorical attributes\n",
        "\n",
        "print(\"Sex:\", df['Sex'].unique())\n",
        "print(\"BP:\", df['BP'].unique())\n",
        "print(\"Cholesterol:\", df['Cholesterol'].unique())\n",
        "print(\"Drug:\", df['Drug'].unique())"
      ]
    },
    {
      "cell_type": "code",
      "execution_count": 11,
      "id": "binding-honor",
      "metadata": {
        "execution": {
          "iopub.execute_input": "2021-06-13T14:12:49.754316Z",
          "iopub.status.busy": "2021-06-13T14:12:49.747019Z",
          "iopub.status.idle": "2021-06-13T14:12:49.919269Z",
          "shell.execute_reply": "2021-06-13T14:12:49.919691Z",
          "shell.execute_reply.started": "2021-06-13T14:10:25.910133Z"
        },
        "papermill": {
          "duration": 0.246077,
          "end_time": "2021-06-13T14:12:49.919854",
          "exception": false,
          "start_time": "2021-06-13T14:12:49.673777",
          "status": "completed"
        },
        "tags": [],
        "colab": {
          "base_uri": "https://localhost:8080/",
          "height": 627
        },
        "id": "binding-honor",
        "outputId": "a5650679-53cc-42c4-df41-0334b75da5ad"
      },
      "outputs": [
        {
          "output_type": "display_data",
          "data": {
            "text/plain": [
              "<Figure size 720x720 with 1 Axes>"
            ],
            "image/png": "[encoded data removed]"
          },
          "metadata": {
            "needs_background": "light"
          }
        }
      ],
      "source": [
        "# Analyze Cholesterol based on Sex\n",
        "\n",
        "df_Sex_Cholesterol = df.groupby([\"Sex\", \"Cholesterol\"]).size().reset_index(name = \"Count\")\n",
        "\n",
        "plt.figure(figsize = (10,10))\n",
        "sns.barplot(x = \"Sex\", y = \"Count\", hue = \"Cholesterol\", data = df_Sex_Cholesterol)\n",
        "plt.title(\"Sex - Cholesterol\", fontsize=20, fontweight='bold')\n",
        "plt.show()"
      ]
    },
    {
      "cell_type": "markdown",
      "id": "expensive-handling",
      "metadata": {
        "papermill": {
          "duration": 0.047108,
          "end_time": "2021-06-13T14:12:50.014174",
          "exception": false,
          "start_time": "2021-06-13T14:12:49.967066",
          "status": "completed"
        },
        "tags": [],
        "id": "expensive-handling"
      },
      "source": [
        "<b>Observation:-</b> It is observed that both Female and Male suffer from high cholesterol levels."
      ]
    },
    {
      "cell_type": "code",
      "execution_count": 12,
      "id": "aggressive-commerce",
      "metadata": {
        "execution": {
          "iopub.execute_input": "2021-06-13T14:12:50.140310Z",
          "iopub.status.busy": "2021-06-13T14:12:50.125455Z",
          "iopub.status.idle": "2021-06-13T14:12:50.287648Z",
          "shell.execute_reply": "2021-06-13T14:12:50.286995Z",
          "shell.execute_reply.started": "2021-06-13T14:10:26.143863Z"
        },
        "papermill": {
          "duration": 0.227523,
          "end_time": "2021-06-13T14:12:50.287793",
          "exception": false,
          "start_time": "2021-06-13T14:12:50.060270",
          "status": "completed"
        },
        "tags": [],
        "colab": {
          "base_uri": "https://localhost:8080/",
          "height": 463
        },
        "id": "aggressive-commerce",
        "outputId": "c039c08d-92be-4afc-9c7f-8251fc35240e"
      },
      "outputs": [
        {
          "output_type": "display_data",
          "data": {
            "text/plain": [
              "<Figure size 720x504 with 1 Axes>"
            ],
            "image/png": "[encoded data removed]"
          },
          "metadata": {
            "needs_background": "light"
          }
        }
      ],
      "source": [
        "# Analyze BP based on Sex\n",
        "\n",
        "df_Sex_BP = df.groupby([\"Sex\", \"BP\"]).size().reset_index(name = \"Count\")\n",
        "\n",
        "plt.figure(figsize = (10,7))\n",
        "sns.barplot(x = \"Sex\", y = \"Count\", hue = \"BP\", data = df_Sex_BP)\n",
        "plt.title(\"Sex - BP\", fontsize=20, fontweight='bold')\n",
        "plt.show()"
      ]
    },
    {
      "cell_type": "markdown",
      "id": "official-surge",
      "metadata": {
        "papermill": {
          "duration": 0.045454,
          "end_time": "2021-06-13T14:12:50.380903",
          "exception": false,
          "start_time": "2021-06-13T14:12:50.335449",
          "status": "completed"
        },
        "tags": [],
        "id": "official-surge"
      },
      "source": [
        "<b>Observation:-</b>\n",
        "\n",
        "<ul>\n",
        "    <li>Both Female and Male suffer from high blood pressure levels.</li>\n",
        "    <li>More males suffer from high blood pressure than females.</li>\n",
        "    <li>Almost same number of male and female have normal blood pressure.</li>    \n",
        "</ul>    "
      ]
    },
    {
      "cell_type": "code",
      "execution_count": 13,
      "id": "empirical-fairy",
      "metadata": {
        "execution": {
          "iopub.execute_input": "2021-06-13T14:12:50.501273Z",
          "iopub.status.busy": "2021-06-13T14:12:50.496704Z",
          "iopub.status.idle": "2021-06-13T14:12:50.733365Z",
          "shell.execute_reply": "2021-06-13T14:12:50.732890Z",
          "shell.execute_reply.started": "2021-06-13T14:10:26.341075Z"
        },
        "papermill": {
          "duration": 0.306048,
          "end_time": "2021-06-13T14:12:50.733499",
          "exception": false,
          "start_time": "2021-06-13T14:12:50.427451",
          "status": "completed"
        },
        "tags": [],
        "colab": {
          "base_uri": "https://localhost:8080/",
          "height": 409
        },
        "id": "empirical-fairy",
        "outputId": "4b655fc8-5ab2-46fa-8f4b-9cd4aacaf129"
      },
      "outputs": [
        {
          "output_type": "display_data",
          "data": {
            "text/plain": [
              "<Figure size 720x432 with 1 Axes>"
            ],
            "image/png": "[encoded data removed]"
          },
          "metadata": {
            "needs_background": "light"
          }
        }
      ],
      "source": [
        "# Analyze Drug based on Age\n",
        "\n",
        "plt.figure(figsize = (10,6))\n",
        "sns.swarmplot(x = \"Drug\", y = \"Age\", data = df)\n",
        "plt.legend(df.Drug.value_counts().index)\n",
        "plt.title(\"Age vs Drug\", fontsize=20, fontweight='bold')\n",
        "plt.show()"
      ]
    },
    {
      "cell_type": "markdown",
      "id": "accomplished-endorsement",
      "metadata": {
        "papermill": {
          "duration": 0.047333,
          "end_time": "2021-06-13T14:12:50.827920",
          "exception": false,
          "start_time": "2021-06-13T14:12:50.780587",
          "status": "completed"
        },
        "tags": [],
        "id": "accomplished-endorsement"
      },
      "source": [
        "<b>Observation:-</b>\n",
        "\n",
        "<ul>\n",
        "    <li>drugA is only given to patients whose age is between 20 to 50 years.</li>\n",
        "    <li>drugB is only given to patients above 50 years.</li>\n",
        "    <li>DrugY, drugC and drugX can be given to all age groups.</li>    \n",
        "</ul>    "
      ]
    },
    {
      "cell_type": "code",
      "execution_count": 14,
      "id": "filled-furniture",
      "metadata": {
        "execution": {
          "iopub.execute_input": "2021-06-13T14:12:50.930828Z",
          "iopub.status.busy": "2021-06-13T14:12:50.930150Z",
          "iopub.status.idle": "2021-06-13T14:12:51.211674Z",
          "shell.execute_reply": "2021-06-13T14:12:51.210894Z",
          "shell.execute_reply.started": "2021-06-13T14:10:26.775061Z"
        },
        "papermill": {
          "duration": 0.336065,
          "end_time": "2021-06-13T14:12:51.211816",
          "exception": false,
          "start_time": "2021-06-13T14:12:50.875751",
          "status": "completed"
        },
        "tags": [],
        "colab": {
          "base_uri": "https://localhost:8080/",
          "height": 355
        },
        "id": "filled-furniture",
        "outputId": "5f09e606-2074-4b61-b80e-2c804d6d18c7"
      },
      "outputs": [
        {
          "output_type": "display_data",
          "data": {
            "text/plain": [
              "<Figure size 648x360 with 1 Axes>"
            ],
            "image/png": "[encoded data removed]"
          },
          "metadata": {
            "needs_background": "light"
          }
        }
      ],
      "source": [
        "# Analyze Drug based on Sex\n",
        "\n",
        "df_Sex_Drug = df.groupby([\"Drug\", \"Sex\"]).size().reset_index(name = \"Count\")\n",
        "\n",
        "plt.figure(figsize = (9,5))\n",
        "sns.barplot(x = \"Drug\", y = \"Count\", hue = \"Sex\", data = df_Sex_Drug)\n",
        "plt.title(\"Sex - Drug\", fontsize=20, fontweight='bold')\n",
        "plt.show()"
      ]
    },
    {
      "cell_type": "markdown",
      "id": "defined-medium",
      "metadata": {
        "papermill": {
          "duration": 0.048435,
          "end_time": "2021-06-13T14:12:51.309131",
          "exception": false,
          "start_time": "2021-06-13T14:12:51.260696",
          "status": "completed"
        },
        "tags": [],
        "id": "defined-medium"
      },
      "source": [
        "<b>Observation:-</b>\n",
        "\n",
        "<ul>\n",
        "    <li>DrugY is given to more female patients.</li>\n",
        "    <li>drugA, drugB and drugC is only given to more male patients.</li>\n",
        "    <li>drugX ig given equally to male and female patients.</li>    \n",
        "</ul>    "
      ]
    },
    {
      "cell_type": "code",
      "execution_count": 15,
      "id": "instrumental-virtue",
      "metadata": {
        "execution": {
          "iopub.execute_input": "2021-06-13T14:12:51.415851Z",
          "iopub.status.busy": "2021-06-13T14:12:51.415273Z",
          "iopub.status.idle": "2021-06-13T14:12:51.679695Z",
          "shell.execute_reply": "2021-06-13T14:12:51.679119Z",
          "shell.execute_reply.started": "2021-06-13T14:10:26.977359Z"
        },
        "papermill": {
          "duration": 0.321136,
          "end_time": "2021-06-13T14:12:51.679839",
          "exception": false,
          "start_time": "2021-06-13T14:12:51.358703",
          "status": "completed"
        },
        "tags": [],
        "colab": {
          "base_uri": "https://localhost:8080/",
          "height": 408
        },
        "id": "instrumental-virtue",
        "outputId": "f7e7ce6d-eef5-440d-b7d0-a27539d16a99"
      },
      "outputs": [
        {
          "output_type": "display_data",
          "data": {
            "text/plain": [
              "<Figure size 720x432 with 1 Axes>"
            ],
            "image/png": "[encoded data removed]"
          },
          "metadata": {
            "needs_background": "light"
          }
        }
      ],
      "source": [
        "# Analyze Drug based on Na_to_K\n",
        "\n",
        "plt.figure(figsize = (10,6))\n",
        "sns.swarmplot(x = \"Drug\", y = \"Na_to_K\", data = df)\n",
        "plt.legend(df.Drug.value_counts().index)\n",
        "plt.title(\"Na_to_K vs Drug\", fontsize=20, fontweight='bold')\n",
        "plt.show()"
      ]
    },
    {
      "cell_type": "markdown",
      "id": "conditional-seating",
      "metadata": {
        "papermill": {
          "duration": 0.04885,
          "end_time": "2021-06-13T14:12:51.779527",
          "exception": false,
          "start_time": "2021-06-13T14:12:51.730677",
          "status": "completed"
        },
        "tags": [],
        "id": "conditional-seating"
      },
      "source": [
        "<b>Observation:-</b>\n",
        "\n",
        "<ul>\n",
        "    <li>DrugY is only given to patients whose Na_to_K ratio is greater than 15.</li>\n",
        "    <li>drugC, drugX, drugA and drugB are given to patients whose Na_to_K ratio is between 5 and 15.</li>    \n",
        "</ul>    "
      ]
    },
    {
      "cell_type": "code",
      "execution_count": 16,
      "id": "solved-diagram",
      "metadata": {
        "execution": {
          "iopub.execute_input": "2021-06-13T14:12:51.894103Z",
          "iopub.status.busy": "2021-06-13T14:12:51.893373Z",
          "iopub.status.idle": "2021-06-13T14:12:52.069877Z",
          "shell.execute_reply": "2021-06-13T14:12:52.070353Z",
          "shell.execute_reply.started": "2021-06-13T14:10:27.281486Z"
        },
        "papermill": {
          "duration": 0.241119,
          "end_time": "2021-06-13T14:12:52.070514",
          "exception": false,
          "start_time": "2021-06-13T14:12:51.829395",
          "status": "completed"
        },
        "tags": [],
        "colab": {
          "base_uri": "https://localhost:8080/",
          "height": 355
        },
        "id": "solved-diagram",
        "outputId": "3f43d588-bf88-4eb1-9f2c-dd8e3580a782"
      },
      "outputs": [
        {
          "output_type": "display_data",
          "data": {
            "text/plain": [
              "<Figure size 648x360 with 1 Axes>"
            ],
            "image/png": "[encoded data removed]"
          },
          "metadata": {
            "needs_background": "light"
          }
        }
      ],
      "source": [
        "# Analyze Drug based on Cholesterol\n",
        "\n",
        "df_Sex_Drug = df.groupby([\"Drug\", \"Cholesterol\"]).size().reset_index(name = \"Count\")\n",
        "\n",
        "plt.figure(figsize = (9,5))\n",
        "sns.barplot(x = \"Drug\", y = \"Count\", hue = \"Cholesterol\", data = df_Sex_Drug)\n",
        "plt.title(\"Cholesterol - Drug\", fontsize=20, fontweight='bold')\n",
        "plt.show()"
      ]
    },
    {
      "cell_type": "markdown",
      "id": "academic-lounge",
      "metadata": {
        "papermill": {
          "duration": 0.051269,
          "end_time": "2021-06-13T14:12:52.173007",
          "exception": false,
          "start_time": "2021-06-13T14:12:52.121738",
          "status": "completed"
        },
        "tags": [],
        "id": "academic-lounge"
      },
      "source": [
        "<b>Observation:-</b>\n",
        "\n",
        "<ul>\n",
        "    <li>DrugY and drugA is given to more patients whose Cholesterol level is High.</li>\n",
        "    <li>drugB can be given to patients whose Cholesterol level is High or Normal.</li> \n",
        "    <li>drugC is only given to those patients who have High Cholesterol level.</li>\n",
        "    <li>drugX is given to more patients whose Cholesterol level is Normal.</li>\n",
        "</ul>    "
      ]
    },
    {
      "cell_type": "code",
      "execution_count": 17,
      "id": "floppy-buddy",
      "metadata": {
        "execution": {
          "iopub.execute_input": "2021-06-13T14:12:52.276994Z",
          "iopub.status.busy": "2021-06-13T14:12:52.276430Z",
          "iopub.status.idle": "2021-06-13T14:12:52.477404Z",
          "shell.execute_reply": "2021-06-13T14:12:52.477950Z",
          "shell.execute_reply.started": "2021-06-13T14:10:27.497435Z"
        },
        "papermill": {
          "duration": 0.254672,
          "end_time": "2021-06-13T14:12:52.478142",
          "exception": false,
          "start_time": "2021-06-13T14:12:52.223470",
          "status": "completed"
        },
        "tags": [],
        "colab": {
          "base_uri": "https://localhost:8080/",
          "height": 355
        },
        "id": "floppy-buddy",
        "outputId": "97a015df-b47d-49b2-b66b-7a626d26d63e"
      },
      "outputs": [
        {
          "output_type": "display_data",
          "data": {
            "text/plain": [
              "<Figure size 648x360 with 1 Axes>"
            ],
            "image/png": "[encoded data removed]"
          },
          "metadata": {
            "needs_background": "light"
          }
        }
      ],
      "source": [
        "# Analyze Drug based on BP\n",
        "\n",
        "df_Sex_Drug = df.groupby([\"Drug\", \"BP\"]).size().reset_index(name = \"Count\")\n",
        "\n",
        "plt.figure(figsize = (9,5))\n",
        "sns.barplot(x = \"Drug\", y = \"Count\", hue = \"BP\", data = df_Sex_Drug)\n",
        "plt.title(\"BP - Drug\", fontsize=20, fontweight='bold')\n",
        "plt.legend(loc='upper center')\n",
        "plt.show()"
      ]
    },
    {
      "cell_type": "markdown",
      "id": "rational-defensive",
      "metadata": {
        "papermill": {
          "duration": 0.051144,
          "end_time": "2021-06-13T14:12:52.580774",
          "exception": false,
          "start_time": "2021-06-13T14:12:52.529630",
          "status": "completed"
        },
        "tags": [],
        "id": "rational-defensive"
      },
      "source": [
        "<b>Observation:-</b>\n",
        "\n",
        "<ul>\n",
        "    <li>DrugY is given to more patients whose BP is High.</li>\n",
        "    <li>drugA and drugB can be given to only those patients whose BP is High.</li> \n",
        "    <li>drugC is only given to those patients who have Low BP.</li>\n",
        "    <li>drugX is given to more patients whose BP is Normal.</li>\n",
        "</ul>    "
      ]
    },
    {
      "cell_type": "code",
      "execution_count": 18,
      "id": "automotive-joint",
      "metadata": {
        "execution": {
          "iopub.execute_input": "2021-06-13T14:12:52.707942Z",
          "iopub.status.busy": "2021-06-13T14:12:52.707363Z",
          "iopub.status.idle": "2021-06-13T14:12:52.801744Z",
          "shell.execute_reply": "2021-06-13T14:12:52.802215Z",
          "shell.execute_reply.started": "2021-06-13T14:10:27.731161Z"
        },
        "papermill": {
          "duration": 0.170073,
          "end_time": "2021-06-13T14:12:52.802373",
          "exception": false,
          "start_time": "2021-06-13T14:12:52.632300",
          "status": "completed"
        },
        "tags": [],
        "colab": {
          "base_uri": "https://localhost:8080/",
          "height": 296
        },
        "id": "automotive-joint",
        "outputId": "1818e7d8-76f7-49a5-e0b2-1b2f6fd9ec84"
      },
      "outputs": [
        {
          "output_type": "execute_result",
          "data": {
            "text/plain": [
              "Text(0.5, 0, 'Drug')"
            ]
          },
          "metadata": {},
          "execution_count": 18
        },
        {
          "output_type": "display_data",
          "data": {
            "text/plain": [
              "<Figure size 432x288 with 1 Axes>"
            ],
            "image/png": "[encoded data removed]"
          },
          "metadata": {
            "needs_background": "light"
          }
        }
      ],
      "source": [
        "# Distribution of Drug\n",
        "\n",
        "sns.countplot(x='Drug', data=df)\n",
        "plt.xlabel('Drug')"
      ]
    },
    {
      "cell_type": "markdown",
      "id": "imperial-loading",
      "metadata": {
        "papermill": {
          "duration": 0.051686,
          "end_time": "2021-06-13T14:12:52.905604",
          "exception": false,
          "start_time": "2021-06-13T14:12:52.853918",
          "status": "completed"
        },
        "tags": [],
        "id": "imperial-loading"
      },
      "source": [
        "<b>Observation:-</b>\n",
        "\n",
        "<ul>\n",
        "    <li>DrugY is given to most patients followed by drugX.</li>\n",
        "    <li>drugA, drugB and drugC are given to less number of patients.</li> \n",
        "</ul>    "
      ]
    },
    {
      "cell_type": "code",
      "execution_count": 19,
      "id": "nonprofit-dinner",
      "metadata": {
        "execution": {
          "iopub.execute_input": "2021-06-13T14:12:53.017581Z",
          "iopub.status.busy": "2021-06-13T14:12:53.016948Z",
          "iopub.status.idle": "2021-06-13T14:12:53.019673Z",
          "shell.execute_reply": "2021-06-13T14:12:53.019226Z",
          "shell.execute_reply.started": "2021-06-13T14:10:27.868964Z"
        },
        "papermill": {
          "duration": 0.062085,
          "end_time": "2021-06-13T14:12:53.019789",
          "exception": false,
          "start_time": "2021-06-13T14:12:52.957704",
          "status": "completed"
        },
        "tags": [],
        "id": "nonprofit-dinner"
      },
      "outputs": [],
      "source": [
        "# Encoding categorical variables\n",
        "\n",
        "from sklearn.preprocessing import LabelEncoder\n",
        "\n",
        "def label_encoder(x):\n",
        "    le = LabelEncoder()\n",
        "    df[x] = le.fit_transform(df[x])\n",
        "\n",
        "lables = ['Sex', 'BP', 'Cholesterol', 'Drug']\n",
        "for i in lables:\n",
        "    label_encoder(i)"
      ]
    },
    {
      "cell_type": "code",
      "execution_count": null,
      "id": "running-details",
      "metadata": {
        "execution": {
          "iopub.execute_input": "2021-06-13T14:12:53.128605Z",
          "iopub.status.busy": "2021-06-13T14:12:53.127926Z",
          "iopub.status.idle": "2021-06-13T14:12:53.142145Z",
          "shell.execute_reply": "2021-06-13T14:12:53.142610Z",
          "shell.execute_reply.started": "2021-06-13T14:10:27.880805Z"
        },
        "papermill": {
          "duration": 0.070084,
          "end_time": "2021-06-13T14:12:53.142759",
          "exception": false,
          "start_time": "2021-06-13T14:12:53.072675",
          "status": "completed"
        },
        "tags": [],
        "colab": {
          "base_uri": "https://localhost:8080/",
          "height": 424
        },
        "id": "running-details",
        "outputId": "6395c1e8-6a83-42ec-d28e-c827d45e111c"
      },
      "outputs": [
        {
          "output_type": "execute_result",
          "data": {
            "text/plain": [
              "     Age  Sex  BP  Cholesterol  Na_to_K  Drug\n",
              "0     23    0   0            0   25.355     0\n",
              "1     47    1   1            0   13.093     3\n",
              "2     47    1   1            0   10.114     3\n",
              "3     28    0   2            0    7.798     4\n",
              "4     61    0   1            0   18.043     0\n",
              "..   ...  ...  ..          ...      ...   ...\n",
              "195   56    0   1            0   11.567     3\n",
              "196   16    1   1            0   12.006     3\n",
              "197   52    1   2            0    9.894     4\n",
              "198   23    1   2            1   14.020     4\n",
              "199   40    0   1            1   11.349     4\n",
              "\n",
              "[200 rows x 6 columns]"
            ],
            "text/html": [
              "\n",
              "  <div id=\"df-ee620ca1-5ab3-47b2-a953-fd17d8fa83bb\">\n",
              "    <div class=\"colab-df-container\">\n",
              "      <div>\n",
              "<style scoped>\n",
              "    .dataframe tbody tr th:only-of-type {\n",
              "        vertical-align: middle;\n",
              "    }\n",
              "\n",
              "    .dataframe tbody tr th {\n",
              "        vertical-align: top;\n",
              "    }\n",
              "\n",
              "    .dataframe thead th {\n",
              "        text-align: right;\n",
              "    }\n",
              "</style>\n",
              "<table border=\"1\" class=\"dataframe\">\n",
              "  <thead>\n",
              "    <tr style=\"text-align: right;\">\n",
              "      <th></th>\n",
              "      <th>Age</th>\n",
              "      <th>Sex</th>\n",
              "      <th>BP</th>\n",
              "      <th>Cholesterol</th>\n",
              "      <th>Na_to_K</th>\n",
              "      <th>Drug</th>\n",
              "    </tr>\n",
              "  </thead>\n",
              "  <tbody>\n",
              "    <tr>\n",
              "      <th>0</th>\n",
              "      <td>23</td>\n",
              "      <td>0</td>\n",
              "      <td>0</td>\n",
              "      <td>0</td>\n",
              "      <td>25.355</td>\n",
              "      <td>0</td>\n",
              "    </tr>\n",
              "    <tr>\n",
              "      <th>1</th>\n",
              "      <td>47</td>\n",
              "      <td>1</td>\n",
              "      <td>1</td>\n",
              "      <td>0</td>\n",
              "      <td>13.093</td>\n",
              "      <td>3</td>\n",
              "    </tr>\n",
              "    <tr>\n",
              "      <th>2</th>\n",
              "      <td>47</td>\n",
              "      <td>1</td>\n",
              "      <td>1</td>\n",
              "      <td>0</td>\n",
              "      <td>10.114</td>\n",
              "      <td>3</td>\n",
              "    </tr>\n",
              "    <tr>\n",
              "      <th>3</th>\n",
              "      <td>28</td>\n",
              "      <td>0</td>\n",
              "      <td>2</td>\n",
              "      <td>0</td>\n",
              "      <td>7.798</td>\n",
              "      <td>4</td>\n",
              "    </tr>\n",
              "    <tr>\n",
              "      <th>4</th>\n",
              "      <td>61</td>\n",
              "      <td>0</td>\n",
              "      <td>1</td>\n",
              "      <td>0</td>\n",
              "      <td>18.043</td>\n",
              "      <td>0</td>\n",
              "    </tr>\n",
              "    <tr>\n",
              "      <th>...</th>\n",
              "      <td>...</td>\n",
              "      <td>...</td>\n",
              "      <td>...</td>\n",
              "      <td>...</td>\n",
              "      <td>...</td>\n",
              "      <td>...</td>\n",
              "    </tr>\n",
              "    <tr>\n",
              "      <th>195</th>\n",
              "      <td>56</td>\n",
              "      <td>0</td>\n",
              "      <td>1</td>\n",
              "      <td>0</td>\n",
              "      <td>11.567</td>\n",
              "      <td>3</td>\n",
              "    </tr>\n",
              "    <tr>\n",
              "      <th>196</th>\n",
              "      <td>16</td>\n",
              "      <td>1</td>\n",
              "      <td>1</td>\n",
              "      <td>0</td>\n",
              "      <td>12.006</td>\n",
              "      <td>3</td>\n",
              "    </tr>\n",
              "    <tr>\n",
              "      <th>197</th>\n",
              "      <td>52</td>\n",
              "      <td>1</td>\n",
              "      <td>2</td>\n",
              "      <td>0</td>\n",
              "      <td>9.894</td>\n",
              "      <td>4</td>\n",
              "    </tr>\n",
              "    <tr>\n",
              "      <th>198</th>\n",
              "      <td>23</td>\n",
              "      <td>1</td>\n",
              "      <td>2</td>\n",
              "      <td>1</td>\n",
              "      <td>14.020</td>\n",
              "      <td>4</td>\n",
              "    </tr>\n",
              "    <tr>\n",
              "      <th>199</th>\n",
              "      <td>40</td>\n",
              "      <td>0</td>\n",
              "      <td>1</td>\n",
              "      <td>1</td>\n",
              "      <td>11.349</td>\n",
              "      <td>4</td>\n",
              "    </tr>\n",
              "  </tbody>\n",
              "</table>\n",
              "<p>200 rows × 6 columns</p>\n",
              "</div>\n",
              "      <button class=\"colab-df-convert\" onclick=\"convertToInteractive('df-ee620ca1-5ab3-47b2-a953-fd17d8fa83bb')\"\n",
              "              title=\"Convert this dataframe to an interactive table.\"\n",
              "              style=\"display:none;\">\n",
              "        \n",
              "  <svg xmlns=\"http://www.w3.org/2000/svg\" height=\"24px\"viewBox=\"0 0 24 24\"\n",
              "       width=\"24px\">\n",
              "    <path d=\"M0 0h24v24H0V0z\" fill=\"none\"/>\n",
              "    <path d=\"M18.56 5.44l.94 2.06.94-2.06 2.06-.94-2.06-.94-.94-2.06-.94 2.06-2.06.94zm-11 1L8.5 8.5l.94-2.06 2.06-.94-2.06-.94L8.5 2.5l-.94 2.06-2.06.94zm10 10l.94 2.06.94-2.06 2.06-.94-2.06-.94-.94-2.06-.94 2.06-2.06.94z\"/><path d=\"M17.41 7.96l-1.37-1.37c-.4-.4-.92-.59-1.43-.59-.52 0-1.04.2-1.43.59L10.3 9.45l-7.72 7.72c-.78.78-.78 2.05 0 2.83L4 21.41c.39.39.9.59 1.41.59.51 0 1.02-.2 1.41-.59l7.78-7.78 2.81-2.81c.8-.78.8-2.07 0-2.86zM5.41 20L4 18.59l7.72-7.72 1.47 1.35L5.41 20z\"/>\n",
              "  </svg>\n",
              "      </button>\n",
              "      \n",
              "  <style>\n",
              "    .colab-df-container {\n",
              "      display:flex;\n",
              "      flex-wrap:wrap;\n",
              "      gap: 12px;\n",
              "    }\n",
              "\n",
              "    .colab-df-convert {\n",
              "      background-color: #E8F0FE;\n",
              "      border: none;\n",
              "      border-radius: 50%;\n",
              "      cursor: pointer;\n",
              "      display: none;\n",
              "      fill: #1967D2;\n",
              "      height: 32px;\n",
              "      padding: 0 0 0 0;\n",
              "      width: 32px;\n",
              "    }\n",
              "\n",
              "    .colab-df-convert:hover {\n",
              "      background-color: #E2EBFA;\n",
              "      box-shadow: 0px 1px 2px rgba(60, 64, 67, 0.3), 0px 1px 3px 1px rgba(60, 64, 67, 0.15);\n",
              "      fill: #174EA6;\n",
              "    }\n",
              "\n",
              "    [theme=dark] .colab-df-convert {\n",
              "      background-color: #3B4455;\n",
              "      fill: #D2E3FC;\n",
              "    }\n",
              "\n",
              "    [theme=dark] .colab-df-convert:hover {\n",
              "      background-color: #434B5C;\n",
              "      box-shadow: 0px 1px 3px 1px rgba(0, 0, 0, 0.15);\n",
              "      filter: drop-shadow(0px 1px 2px rgba(0, 0, 0, 0.3));\n",
              "      fill: #FFFFFF;\n",
              "    }\n",
              "  </style>\n",
              "\n",
              "      <script>\n",
              "        const buttonEl =\n",
              "          document.querySelector('#df-ee620ca1-5ab3-47b2-a953-fd17d8fa83bb button.colab-df-convert');\n",
              "        buttonEl.style.display =\n",
              "          google.colab.kernel.accessAllowed ? 'block' : 'none';\n",
              "\n",
              "        async function convertToInteractive(key) {\n",
              "          const element = document.querySelector('#df-ee620ca1-5ab3-47b2-a953-fd17d8fa83bb');\n",
              "          const dataTable =\n",
              "            await google.colab.kernel.invokeFunction('convertToInteractive',\n",
              "                                                     [key], {});\n",
              "          if (!dataTable) return;\n",
              "\n",
              "          const docLinkHtml = 'Like what you see? Visit the ' +\n",
              "            '<a target=\"_blank\" href=https://colab.research.google.com/notebooks/data_table.ipynb>data table notebook</a>'\n",
              "            + ' to learn more about interactive tables.';\n",
              "          element.innerHTML = '';\n",
              "          dataTable['output_type'] = 'display_data';\n",
              "          await google.colab.output.renderOutput(dataTable, element);\n",
              "          const docLink = document.createElement('div');\n",
              "          docLink.innerHTML = docLinkHtml;\n",
              "          element.appendChild(docLink);\n",
              "        }\n",
              "      </script>\n",
              "    </div>\n",
              "  </div>\n",
              "  "
            ]
          },
          "metadata": {},
          "execution_count": 19
        }
      ],
      "source": [
        "df"
      ]
    },
    {
      "cell_type": "markdown",
      "id": "lined-sunglasses",
      "metadata": {
        "papermill": {
          "duration": 0.052503,
          "end_time": "2021-06-13T14:12:53.249317",
          "exception": false,
          "start_time": "2021-06-13T14:12:53.196814",
          "status": "completed"
        },
        "tags": [],
        "id": "lined-sunglasses"
      },
      "source": [
        "Hence, all the categorical attributes are encoded."
      ]
    },
    {
      "cell_type": "markdown",
      "id": "herbal-wayne",
      "metadata": {
        "papermill": {
          "duration": 0.052312,
          "end_time": "2021-06-13T14:12:53.356228",
          "exception": false,
          "start_time": "2021-06-13T14:12:53.303916",
          "status": "completed"
        },
        "tags": [],
        "id": "herbal-wayne"
      },
      "source": [
        "## Model"
      ]
    },
    {
      "cell_type": "markdown",
      "id": "functional-discrimination",
      "metadata": {
        "papermill": {
          "duration": 0.052626,
          "end_time": "2021-06-13T14:12:53.462519",
          "exception": false,
          "start_time": "2021-06-13T14:12:53.409893",
          "status": "completed"
        },
        "tags": [],
        "id": "functional-discrimination"
      },
      "source": [
        "### Splitting the data into training and testing set"
      ]
    },
    {
      "cell_type": "code",
      "execution_count": 20,
      "id": "dutch-stack",
      "metadata": {
        "execution": {
          "iopub.execute_input": "2021-06-13T14:12:53.571836Z",
          "iopub.status.busy": "2021-06-13T14:12:53.571254Z",
          "iopub.status.idle": "2021-06-13T14:12:53.577317Z",
          "shell.execute_reply": "2021-06-13T14:12:53.577774Z",
          "shell.execute_reply.started": "2021-06-13T14:10:27.908461Z"
        },
        "papermill": {
          "duration": 0.061961,
          "end_time": "2021-06-13T14:12:53.577918",
          "exception": false,
          "start_time": "2021-06-13T14:12:53.515957",
          "status": "completed"
        },
        "tags": [],
        "id": "dutch-stack"
      },
      "outputs": [],
      "source": [
        "X = df.iloc[:, :-1]        # independent variable\n",
        "y = df.iloc[:, -1]         # dependent variable"
      ]
    },
    {
      "cell_type": "code",
      "execution_count": 21,
      "id": "norman-tourist",
      "metadata": {
        "execution": {
          "iopub.execute_input": "2021-06-13T14:12:53.686760Z",
          "iopub.status.busy": "2021-06-13T14:12:53.686074Z",
          "iopub.status.idle": "2021-06-13T14:12:53.694327Z",
          "shell.execute_reply": "2021-06-13T14:12:53.693896Z",
          "shell.execute_reply.started": "2021-06-13T14:10:27.923161Z"
        },
        "papermill": {
          "duration": 0.064058,
          "end_time": "2021-06-13T14:12:53.694465",
          "exception": false,
          "start_time": "2021-06-13T14:12:53.630407",
          "status": "completed"
        },
        "tags": [],
        "colab": {
          "base_uri": "https://localhost:8080/"
        },
        "id": "norman-tourist",
        "outputId": "0d05f20a-dc74-43c1-a20a-bae580398ff2"
      },
      "outputs": [
        {
          "output_type": "stream",
          "name": "stdout",
          "text": [
            "(160, 5) (40, 5) (160,) (40,)\n"
          ]
        }
      ],
      "source": [
        "X_train, X_test, y_train, y_test = train_test_split(X, y, test_size=0.2, random_state=42)\n",
        "\n",
        "print(X_train.shape, X_test.shape, y_train.shape, y_test.shape)"
      ]
    },
    {
      "cell_type": "markdown",
      "id": "touched-findings",
      "metadata": {
        "papermill": {
          "duration": 0.052982,
          "end_time": "2021-06-13T14:12:53.800774",
          "exception": false,
          "start_time": "2021-06-13T14:12:53.747792",
          "status": "completed"
        },
        "tags": [],
        "id": "touched-findings"
      },
      "source": [
        "### 1. Random Forest Classifier"
      ]
    },
    {
      "cell_type": "code",
      "execution_count": 22,
      "id": "other-german",
      "metadata": {
        "execution": {
          "iopub.execute_input": "2021-06-13T14:12:53.915254Z",
          "iopub.status.busy": "2021-06-13T14:12:53.914617Z",
          "iopub.status.idle": "2021-06-13T14:12:55.011032Z",
          "shell.execute_reply": "2021-06-13T14:12:55.011702Z",
          "shell.execute_reply.started": "2021-06-13T14:10:27.938472Z"
        },
        "papermill": {
          "duration": 1.157586,
          "end_time": "2021-06-13T14:12:55.011940",
          "exception": false,
          "start_time": "2021-06-13T14:12:53.854354",
          "status": "completed"
        },
        "tags": [],
        "colab": {
          "base_uri": "https://localhost:8080/"
        },
        "id": "other-german",
        "outputId": "f0d181c2-c546-4f9e-a27e-96afca8563a4"
      },
      "outputs": [
        {
          "output_type": "stream",
          "name": "stdout",
          "text": [
            "Train Score: 0.9875\n",
            "Test Score: 1.0\n"
          ]
        }
      ],
      "source": [
        "# without tuning hyperparameters\n",
        "\n",
        "clf1 = RandomForestClassifier(random_state=42)\n",
        "accuracies = cross_val_score(clf1, X_train, y_train, cv=5)\n",
        "clf1.fit(X_train, y_train)\n",
        "\n",
        "print(\"Train Score:\", np.mean(accuracies))\n",
        "print(\"Test Score:\", clf1.score(X_test, y_test))"
      ]
    },
    {
      "cell_type": "code",
      "execution_count": 23,
      "id": "cardiovascular-offense",
      "metadata": {
        "execution": {
          "iopub.execute_input": "2021-06-13T14:12:55.131181Z",
          "iopub.status.busy": "2021-06-13T14:12:55.128647Z",
          "iopub.status.idle": "2021-06-13T14:12:55.144442Z",
          "shell.execute_reply": "2021-06-13T14:12:55.144897Z",
          "shell.execute_reply.started": "2021-06-13T14:10:29.131382Z"
        },
        "papermill": {
          "duration": 0.077839,
          "end_time": "2021-06-13T14:12:55.145051",
          "exception": false,
          "start_time": "2021-06-13T14:12:55.067212",
          "status": "completed"
        },
        "tags": [],
        "colab": {
          "base_uri": "https://localhost:8080/"
        },
        "id": "cardiovascular-offense",
        "outputId": "eeb6608c-8527-4011-9a8f-9cd840656c71"
      },
      "outputs": [
        {
          "output_type": "execute_result",
          "data": {
            "text/plain": [
              "array([4, 0, 4, 3, 0, 0, 0, 4, 1, 4, 1, 4, 0, 1, 2, 0, 2, 4, 3, 0, 2, 4,\n",
              "       4, 0, 0, 0, 3, 4, 0, 4, 0, 3, 3, 0, 1, 0, 4, 1, 0, 1])"
            ]
          },
          "metadata": {},
          "execution_count": 23
        }
      ],
      "source": [
        "# Predicting values\n",
        "\n",
        "y_pred1 = clf1.predict(X_test)\n",
        "y_pred1"
      ]
    },
    {
      "cell_type": "code",
      "execution_count": 24,
      "id": "integrated-netherlands",
      "metadata": {
        "execution": {
          "iopub.execute_input": "2021-06-13T14:12:55.258254Z",
          "iopub.status.busy": "2021-06-13T14:12:55.256969Z",
          "iopub.status.idle": "2021-06-13T14:12:55.263224Z",
          "shell.execute_reply": "2021-06-13T14:12:55.262742Z",
          "shell.execute_reply.started": "2021-06-13T14:10:29.157553Z"
        },
        "papermill": {
          "duration": 0.06451,
          "end_time": "2021-06-13T14:12:55.263346",
          "exception": false,
          "start_time": "2021-06-13T14:12:55.198836",
          "status": "completed"
        },
        "tags": [],
        "colab": {
          "base_uri": "https://localhost:8080/"
        },
        "id": "integrated-netherlands",
        "outputId": "770ac1a8-9918-4693-b79d-2d7540dda4f2"
      },
      "outputs": [
        {
          "output_type": "execute_result",
          "data": {
            "text/plain": [
              "1.0"
            ]
          },
          "metadata": {},
          "execution_count": 24
        }
      ],
      "source": [
        "# F1 score\n",
        "\n",
        "clf1_f1_score = f1_score(y_test, y_pred1, average='weighted')\n",
        "clf1_f1_score"
      ]
    },
    {
      "cell_type": "code",
      "execution_count": 25,
      "id": "comparative-brooks",
      "metadata": {
        "execution": {
          "iopub.execute_input": "2021-06-13T14:12:55.378755Z",
          "iopub.status.busy": "2021-06-13T14:12:55.378143Z",
          "iopub.status.idle": "2021-06-13T14:12:55.384799Z",
          "shell.execute_reply": "2021-06-13T14:12:55.385329Z",
          "shell.execute_reply.started": "2021-06-13T14:10:29.168388Z"
        },
        "papermill": {
          "duration": 0.066564,
          "end_time": "2021-06-13T14:12:55.385497",
          "exception": false,
          "start_time": "2021-06-13T14:12:55.318933",
          "status": "completed"
        },
        "tags": [],
        "colab": {
          "base_uri": "https://localhost:8080/"
        },
        "id": "comparative-brooks",
        "outputId": "25589770-2d2f-4517-d2da-cdabd1fbadf0"
      },
      "outputs": [
        {
          "output_type": "stream",
          "name": "stdout",
          "text": [
            "              precision    recall  f1-score   support\n",
            "\n",
            "           0       1.00      1.00      1.00        15\n",
            "           1       1.00      1.00      1.00         6\n",
            "           2       1.00      1.00      1.00         3\n",
            "           3       1.00      1.00      1.00         5\n",
            "           4       1.00      1.00      1.00        11\n",
            "\n",
            "    accuracy                           1.00        40\n",
            "   macro avg       1.00      1.00      1.00        40\n",
            "weighted avg       1.00      1.00      1.00        40\n",
            "\n"
          ]
        }
      ],
      "source": [
        "print(classification_report(y_test, y_pred1))"
      ]
    },
    {
      "cell_type": "code",
      "execution_count": 26,
      "id": "magnetic-circumstances",
      "metadata": {
        "execution": {
          "iopub.execute_input": "2021-06-13T14:12:55.501425Z",
          "iopub.status.busy": "2021-06-13T14:12:55.500456Z",
          "iopub.status.idle": "2021-06-13T14:12:55.503974Z",
          "shell.execute_reply": "2021-06-13T14:12:55.504406Z",
          "shell.execute_reply.started": "2021-06-13T14:10:29.187436Z"
        },
        "papermill": {
          "duration": 0.064499,
          "end_time": "2021-06-13T14:12:55.504559",
          "exception": false,
          "start_time": "2021-06-13T14:12:55.440060",
          "status": "completed"
        },
        "tags": [],
        "colab": {
          "base_uri": "https://localhost:8080/"
        },
        "id": "magnetic-circumstances",
        "outputId": "62a371a1-cd4d-4e3a-fc1d-c86c30ce45a6"
      },
      "outputs": [
        {
          "output_type": "execute_result",
          "data": {
            "text/plain": [
              "array([[15,  0,  0,  0,  0],\n",
              "       [ 0,  6,  0,  0,  0],\n",
              "       [ 0,  0,  3,  0,  0],\n",
              "       [ 0,  0,  0,  5,  0],\n",
              "       [ 0,  0,  0,  0, 11]])"
            ]
          },
          "metadata": {},
          "execution_count": 26
        }
      ],
      "source": [
        "cm = confusion_matrix(y_test, y_pred1)\n",
        "cm"
      ]
    },
    {
      "cell_type": "code",
      "execution_count": 27,
      "id": "changed-merchant",
      "metadata": {
        "execution": {
          "iopub.execute_input": "2021-06-13T14:12:55.618814Z",
          "iopub.status.busy": "2021-06-13T14:12:55.617973Z",
          "iopub.status.idle": "2021-06-13T14:14:29.562350Z",
          "shell.execute_reply": "2021-06-13T14:14:29.563016Z",
          "shell.execute_reply.started": "2021-06-13T14:10:29.196746Z"
        },
        "papermill": {
          "duration": 94.003563,
          "end_time": "2021-06-13T14:14:29.563289",
          "exception": false,
          "start_time": "2021-06-13T14:12:55.559726",
          "status": "completed"
        },
        "tags": [],
        "colab": {
          "base_uri": "https://localhost:8080/"
        },
        "id": "changed-merchant",
        "outputId": "08ce74c7-2d23-4e0e-c958-c79efa32fd13"
      },
      "outputs": [
        {
          "output_type": "stream",
          "name": "stdout",
          "text": [
            "Hyperparameters Used: {'criterion': 'gini', 'n_estimators': 33}\n",
            "Train Score: 0.9875\n",
            "Test Score: 1.0\n"
          ]
        }
      ],
      "source": [
        "# using GridSearchCV\n",
        "\n",
        "grid = {'n_estimators': np.arange(1, 100), 'criterion':['gini','entropy']}\n",
        "\n",
        "clf2 = RandomForestClassifier(random_state=42)\n",
        "clf2_cv = GridSearchCV(clf2, grid, cv=5)\n",
        "clf2_cv.fit(X_train, y_train)\n",
        "\n",
        "print(\"Hyperparameters Used:\", clf2_cv.best_params_)\n",
        "print(\"Train Score:\", np.mean(accuracies))\n",
        "print(\"Test Score:\", clf2_cv.score(X_test, y_test))"
      ]
    },
    {
      "cell_type": "code",
      "execution_count": 28,
      "id": "opening-relaxation",
      "metadata": {
        "execution": {
          "iopub.execute_input": "2021-06-13T14:14:29.685504Z",
          "iopub.status.busy": "2021-06-13T14:14:29.684518Z",
          "iopub.status.idle": "2021-06-13T14:14:29.691455Z",
          "shell.execute_reply": "2021-06-13T14:14:29.691873Z",
          "shell.execute_reply.started": "2021-06-13T14:12:08.242112Z"
        },
        "papermill": {
          "duration": 0.072354,
          "end_time": "2021-06-13T14:14:29.692023",
          "exception": false,
          "start_time": "2021-06-13T14:14:29.619669",
          "status": "completed"
        },
        "tags": [],
        "colab": {
          "base_uri": "https://localhost:8080/"
        },
        "id": "opening-relaxation",
        "outputId": "1b2a029d-c4f4-4fb3-93e8-47706b01ea05"
      },
      "outputs": [
        {
          "output_type": "execute_result",
          "data": {
            "text/plain": [
              "array([4, 0, 4, 3, 0, 0, 0, 4, 1, 4, 1, 4, 0, 1, 2, 0, 2, 4, 3, 0, 2, 4,\n",
              "       4, 0, 0, 0, 3, 4, 0, 4, 0, 3, 3, 0, 1, 0, 4, 1, 0, 1])"
            ]
          },
          "metadata": {},
          "execution_count": 28
        }
      ],
      "source": [
        "y_pred2 = clf2_cv.predict(X_test)\n",
        "y_pred2"
      ]
    },
    {
      "cell_type": "code",
      "execution_count": 29,
      "id": "entitled-process",
      "metadata": {
        "execution": {
          "iopub.execute_input": "2021-06-13T14:14:29.811699Z",
          "iopub.status.busy": "2021-06-13T14:14:29.810407Z",
          "iopub.status.idle": "2021-06-13T14:14:29.815804Z",
          "shell.execute_reply": "2021-06-13T14:14:29.816228Z",
          "shell.execute_reply.started": "2021-06-13T14:12:08.261191Z"
        },
        "papermill": {
          "duration": 0.068746,
          "end_time": "2021-06-13T14:14:29.816403",
          "exception": false,
          "start_time": "2021-06-13T14:14:29.747657",
          "status": "completed"
        },
        "tags": [],
        "colab": {
          "base_uri": "https://localhost:8080/"
        },
        "id": "entitled-process",
        "outputId": "fefdcc29-eb6a-465e-ba99-41835dcef2d4"
      },
      "outputs": [
        {
          "output_type": "execute_result",
          "data": {
            "text/plain": [
              "1.0"
            ]
          },
          "metadata": {},
          "execution_count": 29
        }
      ],
      "source": [
        "# F1 score\n",
        "\n",
        "clf2_f1_score = f1_score(y_test, y_pred2, average='weighted')\n",
        "clf2_f1_score"
      ]
    },
    {
      "cell_type": "code",
      "execution_count": 30,
      "id": "vocal-findings",
      "metadata": {
        "execution": {
          "iopub.execute_input": "2021-06-13T14:14:29.936541Z",
          "iopub.status.busy": "2021-06-13T14:14:29.934623Z",
          "iopub.status.idle": "2021-06-13T14:14:29.942222Z",
          "shell.execute_reply": "2021-06-13T14:14:29.942670Z",
          "shell.execute_reply.started": "2021-06-13T14:12:08.274795Z"
        },
        "papermill": {
          "duration": 0.070162,
          "end_time": "2021-06-13T14:14:29.942831",
          "exception": false,
          "start_time": "2021-06-13T14:14:29.872669",
          "status": "completed"
        },
        "tags": [],
        "colab": {
          "base_uri": "https://localhost:8080/"
        },
        "id": "vocal-findings",
        "outputId": "48cc99a0-8cea-465e-8fa4-1f6d7f00696a"
      },
      "outputs": [
        {
          "output_type": "stream",
          "name": "stdout",
          "text": [
            "              precision    recall  f1-score   support\n",
            "\n",
            "           0       1.00      1.00      1.00        15\n",
            "           1       1.00      1.00      1.00         6\n",
            "           2       1.00      1.00      1.00         3\n",
            "           3       1.00      1.00      1.00         5\n",
            "           4       1.00      1.00      1.00        11\n",
            "\n",
            "    accuracy                           1.00        40\n",
            "   macro avg       1.00      1.00      1.00        40\n",
            "weighted avg       1.00      1.00      1.00        40\n",
            "\n"
          ]
        }
      ],
      "source": [
        "print(classification_report(y_test, y_pred2))"
      ]
    },
    {
      "cell_type": "code",
      "execution_count": 31,
      "id": "organizational-encoding",
      "metadata": {
        "execution": {
          "iopub.execute_input": "2021-06-13T14:14:30.060481Z",
          "iopub.status.busy": "2021-06-13T14:14:30.059592Z",
          "iopub.status.idle": "2021-06-13T14:14:30.063724Z",
          "shell.execute_reply": "2021-06-13T14:14:30.063267Z",
          "shell.execute_reply.started": "2021-06-13T14:12:08.290248Z"
        },
        "papermill": {
          "duration": 0.064991,
          "end_time": "2021-06-13T14:14:30.063857",
          "exception": false,
          "start_time": "2021-06-13T14:14:29.998866",
          "status": "completed"
        },
        "tags": [],
        "colab": {
          "base_uri": "https://localhost:8080/"
        },
        "id": "organizational-encoding",
        "outputId": "520c8b4a-88bf-4628-8cc2-7255752155af"
      },
      "outputs": [
        {
          "output_type": "execute_result",
          "data": {
            "text/plain": [
              "array([[15,  0,  0,  0,  0],\n",
              "       [ 0,  6,  0,  0,  0],\n",
              "       [ 0,  0,  3,  0,  0],\n",
              "       [ 0,  0,  0,  5,  0],\n",
              "       [ 0,  0,  0,  0, 11]])"
            ]
          },
          "metadata": {},
          "execution_count": 31
        }
      ],
      "source": [
        "cm = confusion_matrix(y_test, y_pred2)\n",
        "cm"
      ]
    },
    {
      "cell_type": "markdown",
      "id": "pursuant-nurse",
      "metadata": {
        "papermill": {
          "duration": 0.054864,
          "end_time": "2021-06-13T14:14:30.174275",
          "exception": false,
          "start_time": "2021-06-13T14:14:30.119411",
          "status": "completed"
        },
        "tags": [],
        "id": "pursuant-nurse"
      },
      "source": [
        "**Hence, Random Forest Classifier shows a 100% accuracy with and without tuning hyperparameters.**"
      ]
    },
    {
      "cell_type": "markdown",
      "id": "pediatric-reducing",
      "metadata": {
        "papermill": {
          "duration": 0.056787,
          "end_time": "2021-06-13T14:14:30.287711",
          "exception": false,
          "start_time": "2021-06-13T14:14:30.230924",
          "status": "completed"
        },
        "tags": [],
        "id": "pediatric-reducing"
      },
      "source": [
        "### 2. Decision Tree Classifier"
      ]
    },
    {
      "cell_type": "code",
      "execution_count": 32,
      "id": "polyphonic-absence",
      "metadata": {
        "execution": {
          "iopub.execute_input": "2021-06-13T14:14:30.407587Z",
          "iopub.status.busy": "2021-06-13T14:14:30.406946Z",
          "iopub.status.idle": "2021-06-13T14:14:30.413933Z",
          "shell.execute_reply": "2021-06-13T14:14:30.413472Z",
          "shell.execute_reply.started": "2021-06-13T14:12:08.304688Z"
        },
        "papermill": {
          "duration": 0.070238,
          "end_time": "2021-06-13T14:14:30.414050",
          "exception": false,
          "start_time": "2021-06-13T14:14:30.343812",
          "status": "completed"
        },
        "tags": [],
        "colab": {
          "base_uri": "https://localhost:8080/"
        },
        "id": "polyphonic-absence",
        "outputId": "7c43fd7b-f927-46b3-c134-44ecc414ad2a"
      },
      "outputs": [
        {
          "output_type": "execute_result",
          "data": {
            "text/plain": [
              "DecisionTreeClassifier()"
            ]
          },
          "metadata": {},
          "execution_count": 32
        }
      ],
      "source": [
        "dt = DecisionTreeClassifier()\n",
        "dt.fit(X_train, y_train)"
      ]
    },
    {
      "cell_type": "code",
      "execution_count": 33,
      "id": "swedish-miracle",
      "metadata": {
        "execution": {
          "iopub.execute_input": "2021-06-13T14:14:30.535318Z",
          "iopub.status.busy": "2021-06-13T14:14:30.534677Z",
          "iopub.status.idle": "2021-06-13T14:14:30.538090Z",
          "shell.execute_reply": "2021-06-13T14:14:30.537644Z",
          "shell.execute_reply.started": "2021-06-13T14:12:08.330264Z"
        },
        "papermill": {
          "duration": 0.067238,
          "end_time": "2021-06-13T14:14:30.538239",
          "exception": false,
          "start_time": "2021-06-13T14:14:30.471001",
          "status": "completed"
        },
        "tags": [],
        "colab": {
          "base_uri": "https://localhost:8080/"
        },
        "id": "swedish-miracle",
        "outputId": "64d11a14-23fa-4223-ed9b-5fe5408de2ce"
      },
      "outputs": [
        {
          "output_type": "execute_result",
          "data": {
            "text/plain": [
              "array([4, 0, 4, 3, 0, 0, 0, 4, 1, 4, 1, 4, 0, 1, 2, 0, 2, 4, 3, 0, 2, 4,\n",
              "       4, 0, 0, 0, 3, 4, 0, 4, 0, 3, 3, 0, 1, 0, 4, 1, 0, 1])"
            ]
          },
          "metadata": {},
          "execution_count": 33
        }
      ],
      "source": [
        "y_pred_dt = dt.predict(X_test)\n",
        "y_pred_dt"
      ]
    },
    {
      "cell_type": "code",
      "execution_count": 34,
      "id": "silver-trademark",
      "metadata": {
        "execution": {
          "iopub.execute_input": "2021-06-13T14:14:30.658049Z",
          "iopub.status.busy": "2021-06-13T14:14:30.657465Z",
          "iopub.status.idle": "2021-06-13T14:14:30.662406Z",
          "shell.execute_reply": "2021-06-13T14:14:30.661943Z",
          "shell.execute_reply.started": "2021-06-13T14:12:08.341729Z"
        },
        "papermill": {
          "duration": 0.067394,
          "end_time": "2021-06-13T14:14:30.662532",
          "exception": false,
          "start_time": "2021-06-13T14:14:30.595138",
          "status": "completed"
        },
        "tags": [],
        "colab": {
          "base_uri": "https://localhost:8080/"
        },
        "id": "silver-trademark",
        "outputId": "08ecdfc4-b6f1-40e1-b4f7-5870a324afdf"
      },
      "outputs": [
        {
          "output_type": "execute_result",
          "data": {
            "text/plain": [
              "1.0"
            ]
          },
          "metadata": {},
          "execution_count": 34
        }
      ],
      "source": [
        "# F1 score\n",
        "\n",
        "dt_f1_score = f1_score(y_test, y_pred_dt, average='weighted')\n",
        "dt_f1_score"
      ]
    },
    {
      "cell_type": "code",
      "execution_count": 35,
      "id": "seasonal-resistance",
      "metadata": {
        "execution": {
          "iopub.execute_input": "2021-06-13T14:14:30.782757Z",
          "iopub.status.busy": "2021-06-13T14:14:30.782205Z",
          "iopub.status.idle": "2021-06-13T14:14:30.788868Z",
          "shell.execute_reply": "2021-06-13T14:14:30.789330Z",
          "shell.execute_reply.started": "2021-06-13T14:12:08.363444Z"
        },
        "papermill": {
          "duration": 0.069519,
          "end_time": "2021-06-13T14:14:30.789493",
          "exception": false,
          "start_time": "2021-06-13T14:14:30.719974",
          "status": "completed"
        },
        "tags": [],
        "colab": {
          "base_uri": "https://localhost:8080/"
        },
        "id": "seasonal-resistance",
        "outputId": "d7cc2b1c-c59b-4960-84c2-ccca7102a69a"
      },
      "outputs": [
        {
          "output_type": "stream",
          "name": "stdout",
          "text": [
            "              precision    recall  f1-score   support\n",
            "\n",
            "           0       1.00      1.00      1.00        15\n",
            "           1       1.00      1.00      1.00         6\n",
            "           2       1.00      1.00      1.00         3\n",
            "           3       1.00      1.00      1.00         5\n",
            "           4       1.00      1.00      1.00        11\n",
            "\n",
            "    accuracy                           1.00        40\n",
            "   macro avg       1.00      1.00      1.00        40\n",
            "weighted avg       1.00      1.00      1.00        40\n",
            "\n"
          ]
        }
      ],
      "source": [
        "print(classification_report(y_test, y_pred_dt))"
      ]
    },
    {
      "cell_type": "code",
      "execution_count": 36,
      "id": "intensive-enlargement",
      "metadata": {
        "execution": {
          "iopub.execute_input": "2021-06-13T14:14:30.910799Z",
          "iopub.status.busy": "2021-06-13T14:14:30.910197Z",
          "iopub.status.idle": "2021-06-13T14:14:30.912759Z",
          "shell.execute_reply": "2021-06-13T14:14:30.913189Z",
          "shell.execute_reply.started": "2021-06-13T14:12:08.387831Z"
        },
        "papermill": {
          "duration": 0.066717,
          "end_time": "2021-06-13T14:14:30.913346",
          "exception": false,
          "start_time": "2021-06-13T14:14:30.846629",
          "status": "completed"
        },
        "tags": [],
        "colab": {
          "base_uri": "https://localhost:8080/"
        },
        "id": "intensive-enlargement",
        "outputId": "aaedf742-4a09-46a0-b84f-0c772b73067a"
      },
      "outputs": [
        {
          "output_type": "execute_result",
          "data": {
            "text/plain": [
              "array([[15,  0,  0,  0,  0],\n",
              "       [ 0,  6,  0,  0,  0],\n",
              "       [ 0,  0,  3,  0,  0],\n",
              "       [ 0,  0,  0,  5,  0],\n",
              "       [ 0,  0,  0,  0, 11]])"
            ]
          },
          "metadata": {},
          "execution_count": 36
        }
      ],
      "source": [
        "cm = confusion_matrix(y_test, y_pred_dt)\n",
        "cm"
      ]
    },
    {
      "cell_type": "markdown",
      "id": "northern-hotel",
      "metadata": {
        "papermill": {
          "duration": 0.05879,
          "end_time": "2021-06-13T14:14:31.030994",
          "exception": false,
          "start_time": "2021-06-13T14:14:30.972204",
          "status": "completed"
        },
        "tags": [],
        "id": "northern-hotel"
      },
      "source": [
        "**Hence, Decision Tree Classifier shows a 100% accuracy.**"
      ]
    },
    {
      "cell_type": "code",
      "execution_count": 37,
      "id": "modern-locking",
      "metadata": {
        "execution": {
          "iopub.execute_input": "2021-06-13T14:14:31.149758Z",
          "iopub.status.busy": "2021-06-13T14:14:31.149149Z",
          "iopub.status.idle": "2021-06-13T14:14:31.887428Z",
          "shell.execute_reply": "2021-06-13T14:14:31.887892Z",
          "shell.execute_reply.started": "2021-06-13T14:12:08.404600Z"
        },
        "papermill": {
          "duration": 0.798365,
          "end_time": "2021-06-13T14:14:31.888055",
          "exception": false,
          "start_time": "2021-06-13T14:14:31.089690",
          "status": "completed"
        },
        "tags": [],
        "colab": {
          "base_uri": "https://localhost:8080/",
          "height": 575
        },
        "id": "modern-locking",
        "outputId": "f3c7cdff-a15b-424b-daad-dd6f3ce396d6"
      },
      "outputs": [
        {
          "output_type": "display_data",
          "data": {
            "text/plain": [
              "<Figure size 1440x720 with 1 Axes>"
            ],
            "image/png": "[encoded data removed]"
          },
          "metadata": {
            "needs_background": "light"
          }
        }
      ],
      "source": [
        "# Visualising the graph\n",
        "\n",
        "plt.figure(figsize = (20,10))\n",
        "dec_tree = plot_tree(decision_tree=dt, feature_names = df.columns, filled = True , precision = 4, rounded = True)"
      ]
    },
    {
      "cell_type": "markdown",
      "metadata": {
        "papermill": {
          "duration": 0.056787,
          "end_time": "2021-06-13T14:14:30.287711",
          "exception": false,
          "start_time": "2021-06-13T14:14:30.230924",
          "status": "completed"
        },
        "tags": [],
        "id": "gTuoEv4D6nt3"
      },
      "source": [
        "### 3. KNN Classifier"
      ],
      "id": "gTuoEv4D6nt3"
    },
    {
      "cell_type": "code",
      "source": [
        "knn= KNeighborsClassifier()\n",
        "\n",
        "knn.fit(X_train, y_train)"
      ],
      "metadata": {
        "colab": {
          "base_uri": "https://localhost:8080/"
        },
        "id": "OVFuEnS_6z3g",
        "outputId": "797c0761-cc87-4c97-bd88-e99f2fdc8b4a"
      },
      "id": "OVFuEnS_6z3g",
      "execution_count": 38,
      "outputs": [
        {
          "output_type": "execute_result",
          "data": {
            "text/plain": [
              "KNeighborsClassifier()"
            ]
          },
          "metadata": {},
          "execution_count": 38
        }
      ]
    },
    {
      "cell_type": "code",
      "source": [
        "pred = knn.predict(X_test)\n",
        "acc = confusion_matrix(y_test, pred)\n",
        "acc"
      ],
      "metadata": {
        "colab": {
          "base_uri": "https://localhost:8080/"
        },
        "id": "sVm2-uNB7HYo",
        "outputId": "e7676a16-20a6-4683-9313-81d3d2c37ee2"
      },
      "id": "sVm2-uNB7HYo",
      "execution_count": 40,
      "outputs": [
        {
          "output_type": "execute_result",
          "data": {
            "text/plain": [
              "array([[15,  0,  0,  0,  0],\n",
              "       [ 0,  3,  0,  0,  3],\n",
              "       [ 0,  0,  2,  0,  1],\n",
              "       [ 0,  1,  1,  1,  2],\n",
              "       [ 0,  1,  3,  0,  7]])"
            ]
          },
          "metadata": {},
          "execution_count": 40
        }
      ]
    },
    {
      "cell_type": "code",
      "source": [
        "print(classification_report(y_test, pred))"
      ],
      "metadata": {
        "colab": {
          "base_uri": "https://localhost:8080/"
        },
        "id": "8tWQ_4AxDyGv",
        "outputId": "3f877fa4-84fc-46d0-92fe-718fd1720868"
      },
      "id": "8tWQ_4AxDyGv",
      "execution_count": 41,
      "outputs": [
        {
          "output_type": "stream",
          "name": "stdout",
          "text": [
            "              precision    recall  f1-score   support\n",
            "\n",
            "           0       1.00      1.00      1.00        15\n",
            "           1       0.60      0.50      0.55         6\n",
            "           2       0.33      0.67      0.44         3\n",
            "           3       1.00      0.20      0.33         5\n",
            "           4       0.54      0.64      0.58        11\n",
            "\n",
            "    accuracy                           0.70        40\n",
            "   macro avg       0.69      0.60      0.58        40\n",
            "weighted avg       0.76      0.70      0.69        40\n",
            "\n"
          ]
        }
      ]
    },
    {
      "cell_type": "markdown",
      "metadata": {
        "papermill": {
          "duration": 0.056787,
          "end_time": "2021-06-13T14:14:30.287711",
          "exception": false,
          "start_time": "2021-06-13T14:14:30.230924",
          "status": "completed"
        },
        "tags": [],
        "id": "84qBVuX4GSE5"
      },
      "source": [
        "### 4. Naive Bayes"
      ],
      "id": "84qBVuX4GSE5"
    },
    {
      "cell_type": "code",
      "source": [
        "from sklearn.naive_bayes import CategoricalNB\n",
        "NBclassifier1 = CategoricalNB()\n",
        "NBclassifier1.fit(X_train, y_train)\n",
        "\n",
        "y_pred = NBclassifier1.predict(X_test)\n",
        "\n",
        "print(classification_report(y_test, y_pred))"
      ],
      "metadata": {
        "colab": {
          "base_uri": "https://localhost:8080/"
        },
        "id": "cMTXdJK_F_9R",
        "outputId": "f33c3a52-cabc-42c6-a7c6-5fb49758867f"
      },
      "id": "cMTXdJK_F_9R",
      "execution_count": 42,
      "outputs": [
        {
          "output_type": "stream",
          "name": "stdout",
          "text": [
            "              precision    recall  f1-score   support\n",
            "\n",
            "           0       1.00      0.93      0.97        15\n",
            "           1       0.71      0.83      0.77         6\n",
            "           2       0.50      0.33      0.40         3\n",
            "           3       1.00      0.20      0.33         5\n",
            "           4       0.69      1.00      0.81        11\n",
            "\n",
            "    accuracy                           0.80        40\n",
            "   macro avg       0.78      0.66      0.66        40\n",
            "weighted avg       0.83      0.80      0.77        40\n",
            "\n"
          ]
        }
      ]
    },
    {
      "cell_type": "markdown",
      "metadata": {
        "papermill": {
          "duration": 0.056787,
          "end_time": "2021-06-13T14:14:30.287711",
          "exception": false,
          "start_time": "2021-06-13T14:14:30.230924",
          "status": "completed"
        },
        "tags": [],
        "id": "xdf9V1XLG8Pi"
      },
      "source": [
        "### 5. Support Vector Machine"
      ],
      "id": "xdf9V1XLG8Pi"
    },
    {
      "cell_type": "code",
      "source": [
        "from sklearn.svm import SVC\n",
        "SVCclassifier = SVC(kernel='linear', max_iter=251)\n",
        "SVCclassifier.fit(X_train, y_train)\n",
        "\n",
        "y_pred = SVCclassifier.predict(X_test)\n",
        "\n",
        "print(classification_report(y_test, y_pred))"
      ],
      "metadata": {
        "colab": {
          "base_uri": "https://localhost:8080/"
        },
        "id": "T2TYtUdNG13Y",
        "outputId": "670aea3a-9192-48d8-a506-bb1f23efa6d1"
      },
      "id": "T2TYtUdNG13Y",
      "execution_count": 43,
      "outputs": [
        {
          "output_type": "stream",
          "name": "stdout",
          "text": [
            "              precision    recall  f1-score   support\n",
            "\n",
            "           0       1.00      0.93      0.97        15\n",
            "           1       0.86      1.00      0.92         6\n",
            "           2       1.00      1.00      1.00         3\n",
            "           3       1.00      1.00      1.00         5\n",
            "           4       1.00      1.00      1.00        11\n",
            "\n",
            "    accuracy                           0.97        40\n",
            "   macro avg       0.97      0.99      0.98        40\n",
            "weighted avg       0.98      0.97      0.98        40\n",
            "\n"
          ]
        },
        {
          "output_type": "stream",
          "name": "stderr",
          "text": [
            "/usr/local/lib/python3.7/dist-packages/sklearn/svm/_base.py:289: ConvergenceWarning: Solver terminated early (max_iter=251).  Consider pre-processing your data with StandardScaler or MinMaxScaler.\n",
            "  ConvergenceWarning,\n"
          ]
        }
      ]
    }
  ],
  "metadata": {
    "kernelspec": {
      "display_name": "Python 3",
      "language": "python",
      "name": "python3"
    },
    "language_info": {
      "codemirror_mode": {
        "name": "ipython",
        "version": 3
      },
      "file_extension": ".py",
      "mimetype": "text/x-python",
      "name": "python",
      "nbconvert_exporter": "python",
      "pygments_lexer": "ipython3",
      "version": "3.7.10"
    },
    "papermill": {
      "default_parameters": {},
      "duration": 117.782428,
      "end_time": "2021-06-13T14:14:37.263753",
      "environment_variables": {},
      "exception": null,
      "input_path": "__notebook__.ipynb",
      "output_path": "__notebook__.ipynb",
      "parameters": {},
      "start_time": "2021-06-13T14:12:39.481325",
      "version": "2.3.3"
    },
    "colab": {
      "name": "drugclassification.ipynb",
      "provenance": [],
      "include_colab_link": true
    }
  },
  "nbformat": 4,
  "nbformat_minor": 5
}